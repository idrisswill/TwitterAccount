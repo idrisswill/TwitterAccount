{
 "cells": [
  {
   "cell_type": "code",
   "execution_count": 1,
   "metadata": {
    "collapsed": true
   },
   "outputs": [],
   "source": [
    "from ClassUser import User, send_request\n",
    "import pandas as pd\n",
    "import os, sys\n",
    "import time\n",
    "import random\n",
    "from dotenv import load_dotenv\n",
    "from  tqdm import tqdm\n",
    "from Tweets import  Tweets\n",
    "from  responseTweets import ResponseTweets\n",
    "from pymongo import MongoClient"
   ]
  },
  {
   "cell_type": "code",
   "execution_count": 2,
   "outputs": [
    {
     "name": "stdout",
     "output_type": "stream",
     "text": [
      "topppp\n"
     ]
    }
   ],
   "source": [
    "load_dotenv()\n",
    "try:\n",
    "    client = MongoClient(\"mongodb+srv://\" + os.getenv(\"MONGODB_USERNAME\") + \\\n",
    "                         \":\" + os.getenv(\"MONGODB_PASSWORD\") + \\\n",
    "                         \"@\" + os.getenv(\"MONGODB_DOMAIN\") + \\\n",
    "                         \"/\"+os.getenv(\"MONGODB_DBNAME\")+\"?retryWrites=true&w=majority\")\n",
    "    client.server_info()\n",
    "except Exception as e:\n",
    "    with open('readme.txt', 'w') as f:\n",
    "        f.write(str(e))\n",
    "        f.write('\\n')\n",
    "    sys.exit(505)\n",
    "print('topppp')"
   ],
   "metadata": {
    "collapsed": false,
    "pycharm": {
     "name": "#%%\n"
    }
   }
  },
  {
   "cell_type": "code",
   "execution_count": 3,
   "outputs": [],
   "source": [
    "headers = {\n",
    "            'User-Agent': 'Mozilla/5.0 (X11; Linux x86_64; rv:78.0) Gecko/20100101 Firefox/78.0',\n",
    "            'Accept': 'text/html,application/xhtml+xml,application/xml;q=0.9,image/webp,*/*;q=0.8',\n",
    "            'Accept-Language': 'fr,fr-FR;q=0.8,en-US;q=0.5,en;q=0.3',\n",
    "            'Connection': 'keep-alive',\n",
    "            'Upgrade-Insecure-Requests': '1',\n",
    "            'Pragma': 'no-cache',\n",
    "            'Cache-Control': 'no-cache',\n",
    "            'Authorization': f'Bearer {os.getenv(\"TOKEN\")}'\n",
    "        }"
   ],
   "metadata": {
    "collapsed": false,
    "pycharm": {
     "name": "#%%\n"
    }
   }
  },
  {
   "cell_type": "code",
   "execution_count": 5,
   "outputs": [],
   "source": [
    "liste = ['id', 'name', 'username', 'public_metrics', 'created_at', 'location']"
   ],
   "metadata": {
    "collapsed": false,
    "pycharm": {
     "name": "#%%\n"
    }
   }
  },
  {
   "cell_type": "code",
   "execution_count": 12,
   "outputs": [],
   "source": [
    "dict_obj_politician ={}\n",
    "list_politician =['KamtoOfficiel', 'CabralLibii', 'Prof_Meon', 'JoshuaOsih' ,'nouranefoster', 'S_EspoirMatomba']"
   ],
   "metadata": {
    "collapsed": false,
    "pycharm": {
     "name": "#%%\n"
    }
   }
  },
  {
   "cell_type": "code",
   "execution_count": 13,
   "outputs": [
    {
     "name": "stdout",
     "output_type": "stream",
     "text": [
      "OK for url:  https://api.twitter.com/2/users/by/username/KamtoOfficiel?user.fields=id,name,username,public_metrics,created_at,location,profile_image_url,protected,verified,url\n",
      "OK for url:  https://api.twitter.com/2/users/by/username/CabralLibii?user.fields=id,name,username,public_metrics,created_at,location,profile_image_url,protected,verified,url\n",
      "OK for url:  https://api.twitter.com/2/users/by/username/Prof_Meon?user.fields=id,name,username,public_metrics,created_at,location,profile_image_url,protected,verified,url\n",
      "OK for url:  https://api.twitter.com/2/users/by/username/JoshuaOsih?user.fields=id,name,username,public_metrics,created_at,location,profile_image_url,protected,verified,url\n",
      "OK for url:  https://api.twitter.com/2/users/by/username/nouranefoster?user.fields=id,name,username,public_metrics,created_at,location,profile_image_url,protected,verified,url\n",
      "OK for url:  https://api.twitter.com/2/users/by/username/S_EspoirMatomba?user.fields=id,name,username,public_metrics,created_at,location,profile_image_url,protected,verified,url\n"
     ]
    }
   ],
   "source": [
    "for name in list_politician:\n",
    "    obj_name = User(username=name)\n",
    "    obj_name.override()\n",
    "    dict_obj_politician[name] = obj_name\n"
   ],
   "metadata": {
    "collapsed": false,
    "pycharm": {
     "name": "#%%\n"
    }
   }
  },
  {
   "cell_type": "code",
   "execution_count": 14,
   "outputs": [
    {
     "data": {
      "text/plain": "{'KamtoOfficiel': <ClassUser.User at 0x7f53c81919a0>,\n 'CabralLibii': <ClassUser.User at 0x7f53c822e580>,\n 'Prof_Meon': <ClassUser.User at 0x7f53ca427fa0>,\n 'JoshuaOsih': <ClassUser.User at 0x7f53ca2f4460>,\n 'nouranefoster': <ClassUser.User at 0x7f53ca44d850>,\n 'S_EspoirMatomba': <ClassUser.User at 0x7f53ca44d820>}"
     },
     "execution_count": 14,
     "metadata": {},
     "output_type": "execute_result"
    }
   ],
   "source": [
    "dict_obj_politician\n"
   ],
   "metadata": {
    "collapsed": false,
    "pycharm": {
     "name": "#%%\n"
    }
   }
  },
  {
   "cell_type": "code",
   "execution_count": 18,
   "outputs": [
    {
     "data": {
      "text/plain": "159673"
     },
     "execution_count": 18,
     "metadata": {},
     "output_type": "execute_result"
    }
   ],
   "source": [
    "dict_obj_politician['KamtoOfficiel'].followers_count\n"
   ],
   "metadata": {
    "collapsed": false,
    "pycharm": {
     "name": "#%%\n"
    }
   }
  },
  {
   "cell_type": "code",
   "execution_count": 20,
   "outputs": [
    {
     "name": "stderr",
     "output_type": "stream",
     "text": [
      "0it [00:00, ?it/s]"
     ]
    },
    {
     "name": "stdout",
     "output_type": "stream",
     "text": [
      "OK for url:  https://api.twitter.com/2/users/956237994792538113/tweets?tweet.fields=author_id,conversation_id,created_at,in_reply_to_user_id,lang,context_annotations,public_metrics,possibly_sensitive,reply_settings,referenced_tweets&max_results=100\n"
     ]
    },
    {
     "name": "stderr",
     "output_type": "stream",
     "text": [
      "1it [00:07,  7.85s/it]\n"
     ]
    },
    {
     "name": "stdout",
     "output_type": "stream",
     "text": [
      "mise a jour terminé\n"
     ]
    },
    {
     "name": "stderr",
     "output_type": "stream",
     "text": [
      "0it [00:00, ?it/s]"
     ]
    },
    {
     "name": "stdout",
     "output_type": "stream",
     "text": [
      "OK for url:  https://api.twitter.com/2/users/956237994792538113/followers?user.fields=id,name,username,public_metrics,created_at,location,profile_image_url,verified,protected,url&max_results=100\n",
      "mise a jour terminé\n"
     ]
    },
    {
     "name": "stderr",
     "output_type": "stream",
     "text": [
      "1it [00:59, 60.00s/it]\n"
     ]
    },
    {
     "name": "stdout",
     "output_type": "stream",
     "text": [
      "is ok for politician KamtoOfficiel\n"
     ]
    },
    {
     "name": "stderr",
     "output_type": "stream",
     "text": [
      "0it [00:00, ?it/s]"
     ]
    },
    {
     "name": "stdout",
     "output_type": "stream",
     "text": [
      "OK for url:  https://api.twitter.com/2/users/3704515876/tweets?tweet.fields=author_id,conversation_id,created_at,in_reply_to_user_id,lang,context_annotations,public_metrics,possibly_sensitive,reply_settings,referenced_tweets&max_results=100\n"
     ]
    },
    {
     "name": "stderr",
     "output_type": "stream",
     "text": [
      "1it [00:07,  7.44s/it]\n"
     ]
    },
    {
     "name": "stdout",
     "output_type": "stream",
     "text": [
      "mise a jour terminé\n"
     ]
    },
    {
     "name": "stderr",
     "output_type": "stream",
     "text": [
      "0it [00:00, ?it/s]"
     ]
    },
    {
     "name": "stdout",
     "output_type": "stream",
     "text": [
      "OK for url:  https://api.twitter.com/2/users/3704515876/followers?user.fields=id,name,username,public_metrics,created_at,location,profile_image_url,verified,protected,url&max_results=100\n",
      "mise a jour terminé\n"
     ]
    },
    {
     "name": "stderr",
     "output_type": "stream",
     "text": [
      "1it [00:58, 58.95s/it]\n"
     ]
    },
    {
     "name": "stdout",
     "output_type": "stream",
     "text": [
      "is ok for politician CabralLibii\n"
     ]
    },
    {
     "name": "stderr",
     "output_type": "stream",
     "text": [
      "0it [00:00, ?it/s]"
     ]
    },
    {
     "name": "stdout",
     "output_type": "stream",
     "text": [
      "OK for url:  https://api.twitter.com/2/users/1174329922673885184/tweets?tweet.fields=author_id,conversation_id,created_at,in_reply_to_user_id,lang,context_annotations,public_metrics,possibly_sensitive,reply_settings,referenced_tweets&max_results=100\n"
     ]
    },
    {
     "name": "stderr",
     "output_type": "stream",
     "text": [
      "1it [00:08,  8.11s/it]\n"
     ]
    },
    {
     "name": "stdout",
     "output_type": "stream",
     "text": [
      "mise a jour terminé\n"
     ]
    },
    {
     "name": "stderr",
     "output_type": "stream",
     "text": [
      "0it [00:00, ?it/s]"
     ]
    },
    {
     "name": "stdout",
     "output_type": "stream",
     "text": [
      "OK for url:  https://api.twitter.com/2/users/1174329922673885184/followers?user.fields=id,name,username,public_metrics,created_at,location,profile_image_url,verified,protected,url&max_results=100\n",
      "mise a jour terminé\n"
     ]
    },
    {
     "name": "stderr",
     "output_type": "stream",
     "text": [
      "1it [01:03, 63.07s/it]\n"
     ]
    },
    {
     "name": "stdout",
     "output_type": "stream",
     "text": [
      "is ok for politician Prof_Meon\n"
     ]
    },
    {
     "name": "stderr",
     "output_type": "stream",
     "text": [
      "0it [00:00, ?it/s]"
     ]
    },
    {
     "name": "stdout",
     "output_type": "stream",
     "text": [
      "OK for url:  https://api.twitter.com/2/users/1098492918/tweets?tweet.fields=author_id,conversation_id,created_at,in_reply_to_user_id,lang,context_annotations,public_metrics,possibly_sensitive,reply_settings,referenced_tweets&max_results=100\n"
     ]
    },
    {
     "name": "stderr",
     "output_type": "stream",
     "text": [
      "1it [00:07,  7.93s/it]\n"
     ]
    },
    {
     "name": "stdout",
     "output_type": "stream",
     "text": [
      "mise a jour terminé\n"
     ]
    },
    {
     "name": "stderr",
     "output_type": "stream",
     "text": [
      "0it [00:00, ?it/s]"
     ]
    },
    {
     "name": "stdout",
     "output_type": "stream",
     "text": [
      "OK for url:  https://api.twitter.com/2/users/1098492918/followers?user.fields=id,name,username,public_metrics,created_at,location,profile_image_url,verified,protected,url&max_results=100\n",
      "mise a jour terminé\n"
     ]
    },
    {
     "name": "stderr",
     "output_type": "stream",
     "text": [
      "1it [01:02, 62.91s/it]\n"
     ]
    },
    {
     "name": "stdout",
     "output_type": "stream",
     "text": [
      "is ok for politician JoshuaOsih\n"
     ]
    },
    {
     "name": "stderr",
     "output_type": "stream",
     "text": [
      "0it [00:00, ?it/s]"
     ]
    },
    {
     "name": "stdout",
     "output_type": "stream",
     "text": [
      "OK for url:  https://api.twitter.com/2/users/4238298291/tweets?tweet.fields=author_id,conversation_id,created_at,in_reply_to_user_id,lang,context_annotations,public_metrics,possibly_sensitive,reply_settings,referenced_tweets&max_results=100\n"
     ]
    },
    {
     "name": "stderr",
     "output_type": "stream",
     "text": [
      "1it [00:07,  7.98s/it]\n"
     ]
    },
    {
     "name": "stdout",
     "output_type": "stream",
     "text": [
      "mise a jour terminé\n"
     ]
    },
    {
     "name": "stderr",
     "output_type": "stream",
     "text": [
      "0it [00:00, ?it/s]"
     ]
    },
    {
     "name": "stdout",
     "output_type": "stream",
     "text": [
      "OK for url:  https://api.twitter.com/2/users/4238298291/followers?user.fields=id,name,username,public_metrics,created_at,location,profile_image_url,verified,protected,url&max_results=100\n",
      "mise a jour terminé\n"
     ]
    },
    {
     "name": "stderr",
     "output_type": "stream",
     "text": [
      "1it [01:06, 66.61s/it]\n"
     ]
    },
    {
     "name": "stdout",
     "output_type": "stream",
     "text": [
      "is ok for politician nouranefoster\n"
     ]
    },
    {
     "name": "stderr",
     "output_type": "stream",
     "text": [
      "0it [00:00, ?it/s]"
     ]
    },
    {
     "name": "stdout",
     "output_type": "stream",
     "text": [
      "OK for url:  https://api.twitter.com/2/users/4691612682/tweets?tweet.fields=author_id,conversation_id,created_at,in_reply_to_user_id,lang,context_annotations,public_metrics,possibly_sensitive,reply_settings,referenced_tweets&max_results=100\n"
     ]
    },
    {
     "name": "stderr",
     "output_type": "stream",
     "text": [
      "1it [00:08,  8.44s/it]\n"
     ]
    },
    {
     "name": "stdout",
     "output_type": "stream",
     "text": [
      "mise a jour terminé\n"
     ]
    },
    {
     "name": "stderr",
     "output_type": "stream",
     "text": [
      "0it [00:00, ?it/s]"
     ]
    },
    {
     "name": "stdout",
     "output_type": "stream",
     "text": [
      "OK for url:  https://api.twitter.com/2/users/4691612682/followers?user.fields=id,name,username,public_metrics,created_at,location,profile_image_url,verified,protected,url&max_results=100\n",
      "mise a jour terminé\n"
     ]
    },
    {
     "name": "stderr",
     "output_type": "stream",
     "text": [
      "1it [00:56, 56.48s/it]"
     ]
    },
    {
     "name": "stdout",
     "output_type": "stream",
     "text": [
      "is ok for politician S_EspoirMatomba\n"
     ]
    },
    {
     "name": "stderr",
     "output_type": "stream",
     "text": [
      "\n"
     ]
    }
   ],
   "source": [
    "for name in list_politician:\n",
    "    dict_obj_politician[name].is_all_data = False\n",
    "    dict_obj_politician[name].save_all_tweets(client,what_i_do='MAJ')\n",
    "    dict_obj_politician[name].is_all_data = False\n",
    "    dict_obj_politician[name].save_all_followers(client,what_i_do='MAJ')\n",
    "    print(f'is ok for politician {name}')"
   ],
   "metadata": {
    "collapsed": false,
    "pycharm": {
     "name": "#%%\n"
    }
   }
  },
  {
   "cell_type": "code",
   "execution_count": 24,
   "outputs": [],
   "source": [
    "tweets=client[\"TwetterAnalitics\"][\"tweets\"].find({\n",
    "    created_at: {\n",
    "        $gte: ISODate(\"2010-04-29T00:00:00.000Z\"),\n",
    "        $lt: ISODate(\"2010-05-01T00:00:00.000Z\")\n",
    "    }\n",
    "})\n",
    "LIST_TWEETS= list(tweets)\n",
    "tweets_df = pd.DataFrame(LIST_TWEETS)"
   ],
   "metadata": {
    "collapsed": false,
    "pycharm": {
     "name": "#%%\n"
    }
   }
  },
  {
   "cell_type": "code",
   "execution_count": 26,
   "outputs": [],
   "source": [
    "LIST_CONVERSATION_ID = tweets_df['conversation_id']"
   ],
   "metadata": {
    "collapsed": false,
    "pycharm": {
     "name": "#%%\n"
    }
   }
  },
  {
   "cell_type": "code",
   "execution_count": null,
   "outputs": [],
   "source": [
    "LIST_CONVERSATION_RESPONSE = []"
   ],
   "metadata": {
    "collapsed": false,
    "pycharm": {
     "name": "#%%\n"
    }
   }
  },
  {
   "cell_type": "code",
   "execution_count": 29,
   "outputs": [
    {
     "name": "stderr",
     "output_type": "stream",
     "text": [
      "  0%|          | 0/7930 [00:00<?, ?it/s]"
     ]
    },
    {
     "name": "stdout",
     "output_type": "stream",
     "text": [
      "OK for url:  https://api.twitter.com/2/tweets/search/recent?query=conversation_id:1527757992904605696&tweet.fields=author_id,conversation_id,created_at,in_reply_to_user_id,referenced_tweets&expansions=author_id,in_reply_to_user_id,referenced_tweets.id&user.fields=name,username\n"
     ]
    },
    {
     "name": "stderr",
     "output_type": "stream",
     "text": [
      "\n"
     ]
    },
    {
     "ename": "KeyError",
     "evalue": "'includes'",
     "output_type": "error",
     "traceback": [
      "\u001B[0;31m---------------------------------------------------------------------------\u001B[0m",
      "\u001B[0;31mKeyError\u001B[0m                                  Traceback (most recent call last)",
      "\u001B[0;32m/tmp/ipykernel_48779/2724439935.py\u001B[0m in \u001B[0;36m<module>\u001B[0;34m\u001B[0m\n\u001B[1;32m      2\u001B[0m     \u001B[0murl\u001B[0m \u001B[0;34m=\u001B[0m \u001B[0;34mf'https://api.twitter.com/2/tweets/search/recent?query=conversation_id:{conversation_id}&tweet.fields=author_id,conversation_id,created_at,in_reply_to_user_id,referenced_tweets&expansions=author_id,in_reply_to_user_id,referenced_tweets.id&user.fields=name,username'\u001B[0m\u001B[0;34m\u001B[0m\u001B[0;34m\u001B[0m\u001B[0m\n\u001B[1;32m      3\u001B[0m     \u001B[0mresponse\u001B[0m \u001B[0;34m=\u001B[0m \u001B[0msend_request\u001B[0m\u001B[0;34m(\u001B[0m\u001B[0murl\u001B[0m\u001B[0;34m=\u001B[0m\u001B[0murl\u001B[0m\u001B[0;34m,\u001B[0m\u001B[0mheaders\u001B[0m\u001B[0;34m=\u001B[0m\u001B[0mheaders\u001B[0m\u001B[0;34m)\u001B[0m\u001B[0;34m\u001B[0m\u001B[0;34m\u001B[0m\u001B[0m\n\u001B[0;32m----> 4\u001B[0;31m     \u001B[0mresponse_tweet\u001B[0m \u001B[0;34m=\u001B[0m \u001B[0mResponseTweets\u001B[0m\u001B[0;34m(\u001B[0m\u001B[0mdata\u001B[0m\u001B[0;34m=\u001B[0m\u001B[0mresponse\u001B[0m\u001B[0;34m,\u001B[0m\u001B[0mconversation_id\u001B[0m\u001B[0;34m=\u001B[0m\u001B[0mconversation_id\u001B[0m\u001B[0;34m)\u001B[0m\u001B[0;34m\u001B[0m\u001B[0;34m\u001B[0m\u001B[0m\n\u001B[0m\u001B[1;32m      5\u001B[0m     \u001B[0mdictionary\u001B[0m \u001B[0;34m=\u001B[0m \u001B[0mvars\u001B[0m\u001B[0;34m(\u001B[0m\u001B[0mresponse_tweet\u001B[0m\u001B[0;34m)\u001B[0m\u001B[0;34m\u001B[0m\u001B[0;34m\u001B[0m\u001B[0m\n\u001B[1;32m      6\u001B[0m     \u001B[0mLIST_CONVERSATION_RESPONSE\u001B[0m\u001B[0;34m.\u001B[0m\u001B[0mappend\u001B[0m\u001B[0;34m(\u001B[0m\u001B[0mdictionary\u001B[0m\u001B[0;34m)\u001B[0m\u001B[0;34m\u001B[0m\u001B[0;34m\u001B[0m\u001B[0m\n",
      "\u001B[0;32m/data/AllProjectIA/TwitterAccount/datacollection/responseTweets.py\u001B[0m in \u001B[0;36m__init__\u001B[0;34m(self, data, conversation_id)\u001B[0m\n\u001B[1;32m      3\u001B[0m         \u001B[0mself\u001B[0m\u001B[0;34m.\u001B[0m\u001B[0mconversation_id\u001B[0m \u001B[0;34m=\u001B[0m \u001B[0mconversation_id\u001B[0m\u001B[0;34m\u001B[0m\u001B[0;34m\u001B[0m\u001B[0m\n\u001B[1;32m      4\u001B[0m         \u001B[0mself\u001B[0m\u001B[0;34m.\u001B[0m\u001B[0mlist_user_and_response\u001B[0m\u001B[0;34m=\u001B[0m\u001B[0;34m[\u001B[0m\u001B[0;34m]\u001B[0m\u001B[0;34m\u001B[0m\u001B[0;34m\u001B[0m\u001B[0m\n\u001B[0;32m----> 5\u001B[0;31m         \u001B[0mself\u001B[0m\u001B[0;34m.\u001B[0m\u001B[0mnumber_of_node\u001B[0m \u001B[0;34m=\u001B[0m \u001B[0mlen\u001B[0m\u001B[0;34m(\u001B[0m\u001B[0mdata\u001B[0m\u001B[0;34m[\u001B[0m\u001B[0;34m'includes'\u001B[0m\u001B[0;34m]\u001B[0m\u001B[0;34m[\u001B[0m\u001B[0;34m'tweets'\u001B[0m\u001B[0;34m]\u001B[0m\u001B[0;34m)\u001B[0m\u001B[0;34m\u001B[0m\u001B[0;34m\u001B[0m\u001B[0m\n\u001B[0m\u001B[1;32m      6\u001B[0m         \u001B[0;32mfor\u001B[0m \u001B[0mdata\u001B[0m \u001B[0;32min\u001B[0m \u001B[0mdata\u001B[0m\u001B[0;34m[\u001B[0m\u001B[0;34m'data'\u001B[0m\u001B[0;34m]\u001B[0m\u001B[0;34m:\u001B[0m\u001B[0;34m\u001B[0m\u001B[0;34m\u001B[0m\u001B[0m\n\u001B[1;32m      7\u001B[0m             \u001B[0;32mif\u001B[0m \u001B[0mdata\u001B[0m\u001B[0;34m[\u001B[0m\u001B[0;34m'referenced_tweets'\u001B[0m\u001B[0;34m]\u001B[0m\u001B[0;34m[\u001B[0m\u001B[0;34m'id'\u001B[0m\u001B[0;34m]\u001B[0m \u001B[0;34m==\u001B[0m \u001B[0mconversation_id\u001B[0m\u001B[0;34m:\u001B[0m\u001B[0;34m\u001B[0m\u001B[0;34m\u001B[0m\u001B[0m\n",
      "\u001B[0;31mKeyError\u001B[0m: 'includes'"
     ]
    }
   ],
   "source": [
    "for conversation_id in tqdm(LIST_CONVERSATION_ID):\n",
    "    url = f'https://api.twitter.com/2/tweets/search/recent?query=conversation_id:{conversation_id}&tweet.fields=author_id,conversation_id,created_at,in_reply_to_user_id,referenced_tweets&expansions=author_id,in_reply_to_user_id,referenced_tweets.id&user.fields=name,username'\n",
    "    response = send_request(url=url,headers=headers)\n",
    "    response_tweet = ResponseTweets(data=response,conversation_id=conversation_id)\n",
    "    dictionary = vars(response_tweet)\n",
    "    LIST_CONVERSATION_RESPONSE.append(dictionary)\n",
    "    break"
   ],
   "metadata": {
    "collapsed": false,
    "pycharm": {
     "name": "#%%\n"
    }
   }
  },
  {
   "cell_type": "code",
   "execution_count": 31,
   "outputs": [
    {
     "data": {
      "text/plain": "{'meta': {'result_count': 0}}"
     },
     "execution_count": 31,
     "metadata": {},
     "output_type": "execute_result"
    }
   ],
   "source": [
    "\n",
    "response"
   ],
   "metadata": {
    "collapsed": false,
    "pycharm": {
     "name": "#%%\n"
    }
   }
  },
  {
   "cell_type": "code",
   "execution_count": 32,
   "outputs": [
    {
     "data": {
      "text/plain": "0       1527757992904605696\n1       1527630902221754370\n2       1527626800444080128\n3       1527547230521020416\n4       1527217344363233280\n               ...         \n7925    1528448682689011714\n7926    1529736075526213634\n7927    1529438218231238656\n7928    1529418508941070336\n7929    1528628950196436992\nName: conversation_id, Length: 7930, dtype: object"
     },
     "execution_count": 32,
     "metadata": {},
     "output_type": "execute_result"
    }
   ],
   "source": [
    "LIST_CONVERSATION_ID"
   ],
   "metadata": {
    "collapsed": false,
    "pycharm": {
     "name": "#%%\n"
    }
   }
  },
  {
   "cell_type": "code",
   "execution_count": null,
   "outputs": [],
   "source": [],
   "metadata": {
    "collapsed": false,
    "pycharm": {
     "name": "#%%\n"
    }
   }
  },
  {
   "cell_type": "code",
   "execution_count": null,
   "outputs": [],
   "source": [],
   "metadata": {
    "collapsed": false,
    "pycharm": {
     "name": "#%%\n"
    }
   }
  },
  {
   "cell_type": "code",
   "execution_count": null,
   "outputs": [],
   "source": [],
   "metadata": {
    "collapsed": false,
    "pycharm": {
     "name": "#%%\n"
    }
   }
  },
  {
   "cell_type": "code",
   "execution_count": 8,
   "outputs": [],
   "source": [
    "from datetime import date\n",
    "import datetime"
   ],
   "metadata": {
    "collapsed": false,
    "pycharm": {
     "name": "#%%\n"
    }
   }
  },
  {
   "cell_type": "code",
   "execution_count": 6,
   "outputs": [
    {
     "data": {
      "text/plain": "datetime.date(2022, 6, 7)"
     },
     "execution_count": 6,
     "metadata": {},
     "output_type": "execute_result"
    }
   ],
   "source": [
    "to_date = date.today()\n",
    "\n",
    "to_date"
   ],
   "metadata": {
    "collapsed": false,
    "pycharm": {
     "name": "#%%\n"
    }
   }
  },
  {
   "cell_type": "code",
   "execution_count": 9,
   "outputs": [
    {
     "data": {
      "text/plain": "datetime.date(2022, 5, 31)"
     },
     "execution_count": 9,
     "metadata": {},
     "output_type": "execute_result"
    }
   ],
   "source": [
    "from_date = to_date - datetime.timedelta(days=7)\n",
    "from_date"
   ],
   "metadata": {
    "collapsed": false,
    "pycharm": {
     "name": "#%%\n"
    }
   }
  },
  {
   "cell_type": "code",
   "execution_count": 25,
   "outputs": [],
   "source": [
    "tweets=client[\"TwetterAnalitics\"][\"tweets\"].find({\n",
    "    \"created_at\": {\n",
    "        \"$gte\": (date.today() - datetime.timedelta(days=15)).strftime('%Y-%m-%dT%H:%M:%S.%f%z'),\n",
    "        \"$lt\": date.today().strftime('%Y-%m-%dT%H:%M:%S.%f%z')\n",
    "    }\n",
    "})\n",
    "LIST_TWEETS= list(tweets)\n",
    "tweets_df = pd.DataFrame(LIST_TWEETS)"
   ],
   "metadata": {
    "collapsed": false,
    "pycharm": {
     "name": "#%%\n"
    }
   }
  },
  {
   "cell_type": "code",
   "execution_count": 42,
   "outputs": [
    {
     "data": {
      "text/plain": "                        _id                created_at   author_id  \\\n0  6290e600a34048aebcd609fa  2022-05-25T19:19:06.000Z  3704515876   \n1  6290e600a34048aebcd60a12  2022-05-24T15:55:48.000Z  3704515876   \n2  6290e600a34048aebcd60a2c  2022-05-23T09:29:38.000Z  3704515876   \n3  6290e600a34048aebcd60a3e  2022-05-23T08:07:44.000Z  3704515876   \n4  6290e623a34048aebcd61ecf  2022-05-26T08:07:56.000Z  4691612682   \n5  6290e623a34048aebcd61ee3  2022-05-25T12:24:21.000Z  4691612682   \n6  6290e623a34048aebcd61ef8  2022-05-25T11:06:02.000Z  4691612682   \n7  6290e623a34048aebcd61f08  2022-05-23T06:48:36.000Z  4691612682   \n\n  context_annotations_domain_name context_annotations_entity_id  \\\n0                          Person            895645632131612672   \n1                             NaN                           NaN   \n2                             NaN                           NaN   \n3                             NaN                           NaN   \n4                             NaN                           NaN   \n5                             NaN                           NaN   \n6                             NaN                           NaN   \n7                             NaN                           NaN   \n\n  context_annotations_entity_name      conversation_id                   id  \\\n0                       Paul Biya  1529542594992168960  1529542594992168960   \n1                             NaN  1529129045690138625  1529129045690138625   \n2                             NaN  1528669475284860929  1528669475284860929   \n3                             NaN  1528648861895516160  1528648861895516160   \n4                             NaN  1529736075526213634  1529736075526213634   \n5                             NaN  1529438218231238656  1529438218231238656   \n6                             NaN  1529418508941070336  1529418508941070336   \n7                             NaN  1528628950196436992  1528628950196436992   \n\n  lang  like_count  possibly_sensitive  quote_count  reply_count  \\\n0   fr          89               False            7           28   \n1   fr           0               False            0            0   \n2   fr           0               False            0            0   \n3   fr           0               False            0            0   \n4   fr           8               False            0            0   \n5   fr         329               False          140          199   \n6   fr           7               False            1            3   \n7   fr          23               False            7           17   \n\n  reply_settings  retweet_count  \\\n0       everyone             15   \n1       everyone             10   \n2       everyone             16   \n3       everyone              8   \n4       everyone              1   \n5       everyone             62   \n6       everyone              0   \n7       everyone              4   \n\n                                                text referenced_tweets_id  \\\n0  Impressionné!!!\\n\"57 600 dossiers traités par ...                  NaN   \n1  RT @Pcrn_Officiel: Le président national s’exp...  1529128894456012801   \n2  RT @Pcrn_Officiel: Extrait du passage de l’hon...  1528668036810649600   \n3  RT @Javinelio: \"Les Duala ne doivent pas souff...  1528465647709130753   \n4  La puissance publique doit s'imposer des limit...                  NaN   \n5  Une fois élu Président du Cameroun, je rendrai...                  NaN   \n6  Chers  Ministres de l'Education de base ; Des ...                  NaN   \n7  Retraite à 50-55 ans c'est très tôt et 15 ans ...                  NaN   \n\n  referenced_tweets_type  \n0                    NaN  \n1              retweeted  \n2              retweeted  \n3              retweeted  \n4                    NaN  \n5                    NaN  \n6                    NaN  \n7                    NaN  ",
      "text/html": "<div>\n<style scoped>\n    .dataframe tbody tr th:only-of-type {\n        vertical-align: middle;\n    }\n\n    .dataframe tbody tr th {\n        vertical-align: top;\n    }\n\n    .dataframe thead th {\n        text-align: right;\n    }\n</style>\n<table border=\"1\" class=\"dataframe\">\n  <thead>\n    <tr style=\"text-align: right;\">\n      <th></th>\n      <th>_id</th>\n      <th>created_at</th>\n      <th>author_id</th>\n      <th>context_annotations_domain_name</th>\n      <th>context_annotations_entity_id</th>\n      <th>context_annotations_entity_name</th>\n      <th>conversation_id</th>\n      <th>id</th>\n      <th>lang</th>\n      <th>like_count</th>\n      <th>possibly_sensitive</th>\n      <th>quote_count</th>\n      <th>reply_count</th>\n      <th>reply_settings</th>\n      <th>retweet_count</th>\n      <th>text</th>\n      <th>referenced_tweets_id</th>\n      <th>referenced_tweets_type</th>\n    </tr>\n  </thead>\n  <tbody>\n    <tr>\n      <th>0</th>\n      <td>6290e600a34048aebcd609fa</td>\n      <td>2022-05-25T19:19:06.000Z</td>\n      <td>3704515876</td>\n      <td>Person</td>\n      <td>895645632131612672</td>\n      <td>Paul Biya</td>\n      <td>1529542594992168960</td>\n      <td>1529542594992168960</td>\n      <td>fr</td>\n      <td>89</td>\n      <td>False</td>\n      <td>7</td>\n      <td>28</td>\n      <td>everyone</td>\n      <td>15</td>\n      <td>Impressionné!!!\\n\"57 600 dossiers traités par ...</td>\n      <td>NaN</td>\n      <td>NaN</td>\n    </tr>\n    <tr>\n      <th>1</th>\n      <td>6290e600a34048aebcd60a12</td>\n      <td>2022-05-24T15:55:48.000Z</td>\n      <td>3704515876</td>\n      <td>NaN</td>\n      <td>NaN</td>\n      <td>NaN</td>\n      <td>1529129045690138625</td>\n      <td>1529129045690138625</td>\n      <td>fr</td>\n      <td>0</td>\n      <td>False</td>\n      <td>0</td>\n      <td>0</td>\n      <td>everyone</td>\n      <td>10</td>\n      <td>RT @Pcrn_Officiel: Le président national s’exp...</td>\n      <td>1529128894456012801</td>\n      <td>retweeted</td>\n    </tr>\n    <tr>\n      <th>2</th>\n      <td>6290e600a34048aebcd60a2c</td>\n      <td>2022-05-23T09:29:38.000Z</td>\n      <td>3704515876</td>\n      <td>NaN</td>\n      <td>NaN</td>\n      <td>NaN</td>\n      <td>1528669475284860929</td>\n      <td>1528669475284860929</td>\n      <td>fr</td>\n      <td>0</td>\n      <td>False</td>\n      <td>0</td>\n      <td>0</td>\n      <td>everyone</td>\n      <td>16</td>\n      <td>RT @Pcrn_Officiel: Extrait du passage de l’hon...</td>\n      <td>1528668036810649600</td>\n      <td>retweeted</td>\n    </tr>\n    <tr>\n      <th>3</th>\n      <td>6290e600a34048aebcd60a3e</td>\n      <td>2022-05-23T08:07:44.000Z</td>\n      <td>3704515876</td>\n      <td>NaN</td>\n      <td>NaN</td>\n      <td>NaN</td>\n      <td>1528648861895516160</td>\n      <td>1528648861895516160</td>\n      <td>fr</td>\n      <td>0</td>\n      <td>False</td>\n      <td>0</td>\n      <td>0</td>\n      <td>everyone</td>\n      <td>8</td>\n      <td>RT @Javinelio: \"Les Duala ne doivent pas souff...</td>\n      <td>1528465647709130753</td>\n      <td>retweeted</td>\n    </tr>\n    <tr>\n      <th>4</th>\n      <td>6290e623a34048aebcd61ecf</td>\n      <td>2022-05-26T08:07:56.000Z</td>\n      <td>4691612682</td>\n      <td>NaN</td>\n      <td>NaN</td>\n      <td>NaN</td>\n      <td>1529736075526213634</td>\n      <td>1529736075526213634</td>\n      <td>fr</td>\n      <td>8</td>\n      <td>False</td>\n      <td>0</td>\n      <td>0</td>\n      <td>everyone</td>\n      <td>1</td>\n      <td>La puissance publique doit s'imposer des limit...</td>\n      <td>NaN</td>\n      <td>NaN</td>\n    </tr>\n    <tr>\n      <th>5</th>\n      <td>6290e623a34048aebcd61ee3</td>\n      <td>2022-05-25T12:24:21.000Z</td>\n      <td>4691612682</td>\n      <td>NaN</td>\n      <td>NaN</td>\n      <td>NaN</td>\n      <td>1529438218231238656</td>\n      <td>1529438218231238656</td>\n      <td>fr</td>\n      <td>329</td>\n      <td>False</td>\n      <td>140</td>\n      <td>199</td>\n      <td>everyone</td>\n      <td>62</td>\n      <td>Une fois élu Président du Cameroun, je rendrai...</td>\n      <td>NaN</td>\n      <td>NaN</td>\n    </tr>\n    <tr>\n      <th>6</th>\n      <td>6290e623a34048aebcd61ef8</td>\n      <td>2022-05-25T11:06:02.000Z</td>\n      <td>4691612682</td>\n      <td>NaN</td>\n      <td>NaN</td>\n      <td>NaN</td>\n      <td>1529418508941070336</td>\n      <td>1529418508941070336</td>\n      <td>fr</td>\n      <td>7</td>\n      <td>False</td>\n      <td>1</td>\n      <td>3</td>\n      <td>everyone</td>\n      <td>0</td>\n      <td>Chers  Ministres de l'Education de base ; Des ...</td>\n      <td>NaN</td>\n      <td>NaN</td>\n    </tr>\n    <tr>\n      <th>7</th>\n      <td>6290e623a34048aebcd61f08</td>\n      <td>2022-05-23T06:48:36.000Z</td>\n      <td>4691612682</td>\n      <td>NaN</td>\n      <td>NaN</td>\n      <td>NaN</td>\n      <td>1528628950196436992</td>\n      <td>1528628950196436992</td>\n      <td>fr</td>\n      <td>23</td>\n      <td>False</td>\n      <td>7</td>\n      <td>17</td>\n      <td>everyone</td>\n      <td>4</td>\n      <td>Retraite à 50-55 ans c'est très tôt et 15 ans ...</td>\n      <td>NaN</td>\n      <td>NaN</td>\n    </tr>\n  </tbody>\n</table>\n</div>"
     },
     "execution_count": 42,
     "metadata": {},
     "output_type": "execute_result"
    }
   ],
   "source": [
    "tweets_df"
   ],
   "metadata": {
    "collapsed": false,
    "pycharm": {
     "name": "#%%\n"
    }
   }
  },
  {
   "cell_type": "code",
   "execution_count": 18,
   "outputs": [
    {
     "data": {
      "text/plain": "'2022-06-07T00:00:00.000000'"
     },
     "execution_count": 18,
     "metadata": {},
     "output_type": "execute_result"
    }
   ],
   "source": [
    "date.today().strftime('%Y-%m-%dT%H:%M:%S.%f%z')"
   ],
   "metadata": {
    "collapsed": false,
    "pycharm": {
     "name": "#%%\n"
    }
   }
  },
  {
   "cell_type": "code",
   "execution_count": 16,
   "outputs": [
    {
     "data": {
      "text/plain": "'2022-05-08'"
     },
     "execution_count": 16,
     "metadata": {},
     "output_type": "execute_result"
    }
   ],
   "source": [
    "(date.today() - datetime.timedelta(days=30)).isoformat()"
   ],
   "metadata": {
    "collapsed": false,
    "pycharm": {
     "name": "#%%\n"
    }
   }
  },
  {
   "cell_type": "code",
   "execution_count": 4,
   "outputs": [],
   "source": [
    "conversation_id=\"1529542594992168960\""
   ],
   "metadata": {
    "collapsed": false,
    "pycharm": {
     "name": "#%%\n"
    }
   }
  },
  {
   "cell_type": "code",
   "execution_count": 7,
   "outputs": [
    {
     "name": "stdout",
     "output_type": "stream",
     "text": [
      "OK for url:  https://api.twitter.com/2/tweets/search/recent?query=conversation_id:1529542594992168960&tweet.fields=author_id,conversation_id,created_at,in_reply_to_user_id,referenced_tweets&expansions=author_id,in_reply_to_user_id,referenced_tweets.id&user.fields=name,username&max_results=100\n"
     ]
    }
   ],
   "source": [
    "url = f'https://api.twitter.com/2/tweets/search/recent?query=conversation_id:{conversation_id}&tweet.fields=author_id,conversation_id,created_at,in_reply_to_user_id,referenced_tweets&expansions=author_id,in_reply_to_user_id,referenced_tweets.id&user.fields=name,username&max_results=100'\n",
    "response = send_request(url=url,headers=headers)\n",
    "response_tweet = ResponseTweets(data=response,conversation_id=conversation_id)\n",
    "dictionary = vars(response_tweet)"
   ],
   "metadata": {
    "collapsed": false,
    "pycharm": {
     "name": "#%%\n"
    }
   }
  },
  {
   "cell_type": "code",
   "execution_count": 8,
   "outputs": [
    {
     "data": {
      "text/plain": "{'conversation_id': '1529542594992168960',\n 'list_user_and_response': [{'author_id': '1484913031595257857',\n   'created_at': '2022-06-08T11:19:39.000Z',\n   'text': '@CabralLibii @Pcrn_Officiel Mon leader'},\n  {'author_id': '781610433526595584',\n   'created_at': '2022-06-06T04:23:25.000Z',\n   'text': \"@CabralLibii Le 25mai 2025 Honorable ?\\nTrop d'avance sur le temps hein! Ce clavier infidèle là doit être changé\"}],\n 'number_of_node': 1,\n 'text': 'Impressionné!!!\\n\"57 600 dossiers traités par Paul Biya en 2021\". \\nDixit Bruno Bidjang au 20h de vision 4 du 25 mai 2025 https://t.co/KROHzkr2nF',\n 'created_at': '2022-05-25T19:19:06.000Z',\n 'author': '3704515876'}"
     },
     "execution_count": 8,
     "metadata": {},
     "output_type": "execute_result"
    }
   ],
   "source": [
    "dictionary"
   ],
   "metadata": {
    "collapsed": false,
    "pycharm": {
     "name": "#%%\n"
    }
   }
  },
  {
   "cell_type": "code",
   "execution_count": null,
   "outputs": [],
   "source": [],
   "metadata": {
    "collapsed": false,
    "pycharm": {
     "name": "#%%\n"
    }
   }
  }
 ],
 "metadata": {
  "kernelspec": {
   "display_name": "Python 3",
   "language": "python",
   "name": "python3"
  },
  "language_info": {
   "codemirror_mode": {
    "name": "ipython",
    "version": 2
   },
   "file_extension": ".py",
   "mimetype": "text/x-python",
   "name": "python",
   "nbconvert_exporter": "python",
   "pygments_lexer": "ipython2",
   "version": "2.7.6"
  }
 },
 "nbformat": 4,
 "nbformat_minor": 0
}