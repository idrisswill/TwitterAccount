{
 "cells": [
  {
   "cell_type": "code",
   "execution_count": null,
   "metadata": {
    "collapsed": true
   },
   "outputs": [],
   "source": [
    "import csv"
   ]
  },
  {
   "cell_type": "code",
   "execution_count": null,
   "outputs": [],
   "source": [
    "import os\n",
    "from shutil import rmtree\n",
    "\n",
    "# Delete the specs directory if it already exists\n",
    "folder = SOURCE_MOUNT + '/specs'\n",
    "if os.path.exists(folder):\n",
    "    rmtree(folder)\n",
    "\n",
    "# Get the text classification task spec files\n",
    "!tao token_classification download_specs \\\n",
    "    -o $SPECS_DIR/text_classification \\\n",
    "    -r $RESULTS_DIR \\\n",
    "    2>&1|tee my_assessment/step1.txt # DO NOT REMOVE THIS LINE"
   ],
   "metadata": {
    "collapsed": false,
    "pycharm": {
     "name": "#%%\n"
    }
   }
  },
  {
   "cell_type": "code",
   "execution_count": null,
   "outputs": [],
   "source": [
    "!ls $SOURCE_MOUNT/specs/text_classification"
   ],
   "metadata": {
    "collapsed": false,
    "pycharm": {
     "name": "#%%\n"
    }
   }
  },
  {
   "cell_type": "code",
   "execution_count": null,
   "outputs": [],
   "source": [
    "!cat $SOURCE_MOUNT/specs/text_classification/train.yaml"
   ],
   "metadata": {
    "collapsed": false,
    "pycharm": {
     "name": "#%%\n"
    }
   }
  },
  {
   "cell_type": "code",
   "execution_count": null,
   "outputs": [],
   "source": [
    "!tao text_classification dataset_convert \\\n",
    "    -e $DESTINATION_MOUNT/specs/text_classification/dataset_convert.yaml \\\n",
    "    -r $RESULTS_DIR/text_classification/dataset_convert \\\n",
    "    source_data_dir=$DATA_DIR/SST-2/\\\n",
    "    target_data_dir=$DATA_DIR/SST2/ \\\n",
    "    dataset_name=sst2"
   ],
   "metadata": {
    "collapsed": false,
    "pycharm": {
     "name": "#%%\n"
    }
   }
  },
  {
   "cell_type": "code",
   "execution_count": null,
   "outputs": [],
   "source": [
    "# Open tsv and txt files(open txt file in write mode)\n",
    "tsv_file = open(\"/dli/task/tao/data/SST2/train.tsv\")\n",
    "txt_file = open(\"/dli/task/tao/data/SST2/text_train.txt\", \"w\")\n",
    "txt_file_label = open(\"/dli/task/tao/data/SST2/labels_train.txt\", \"w\")\n",
    "\n",
    "# Read tsv file and use delimiter as \\t. csv.reader\n",
    "# function returns a iterator\n",
    "# which is stored in read_csv\n",
    "read_tsv = csv.reader(tsv_file, delimiter=\"\\t\")\n",
    "\n",
    "# write data in txt file line by line\n",
    "for row in read_tsv:\n",
    "    txt_file.writelines(row[0]+'\\n')\n",
    "    txt_file_label.writelines(row[1]+'\\n')\n",
    "\n",
    "# close files\n",
    "txt_file.close()\n",
    "txt_file_label.close()\n",
    "tsv_file.close()"
   ],
   "metadata": {
    "collapsed": false,
    "pycharm": {
     "name": "#%%\n"
    }
   }
  },
  {
   "cell_type": "code",
   "execution_count": null,
   "outputs": [],
   "source": [
    "# Open tsv and txt files(open txt file in write mode)\n",
    "tsv_file = open(\"/dli/task/tao/data/SST2/dev.tsv\")\n",
    "txt_file = open(\"/dli/task/tao/data/SST2/text_dev.txt\", \"w\")\n",
    "txt_file_label = open(\"/dli/task/tao/data/SST2/labels_dev.txt\", \"w\")\n",
    "\n",
    "# Read tsv file and use delimiter as \\t. csv.reader\n",
    "# function returns a iterator\n",
    "# which is stored in read_csv\n",
    "read_tsv = csv.reader(tsv_file, delimiter=\"\\t\")\n",
    "\n",
    "# write data in txt file line by line\n",
    "for row in read_tsv:\n",
    "    txt_file.writelines(row[0]+'\\n')\n",
    "    txt_file_label.writelines(row[1]+'\\n')\n",
    "\n",
    "# close files\n",
    "txt_file.close()\n",
    "txt_file_label.close()\n",
    "tsv_file.close()"
   ],
   "metadata": {
    "collapsed": false,
    "pycharm": {
     "name": "#%%\n"
    }
   }
  },
  {
   "cell_type": "code",
   "execution_count": null,
   "outputs": [],
   "source": [
    "%%time\n",
    "# For BERT training on SST-2:\n",
    "!tao token_classification train \\\n",
    "    -e $SPECS_DIR/text_classification/train.yaml \\\n",
    "    -g 1  \\\n",
    "    -k $KEY \\\n",
    "    -r $RESULTS_DIR/sst2 \\\n",
    "    data_dir={DESTINATION_MOUNT}/data/SST2 \\\n",
    "    model.label_ids={DATA_DIR}/SST2/label_ids.csv \\\n",
    "    training_ds.text_file=$DATA_DIR/SST2/text_train.txt \\\n",
    "    training_ds.labels_file=$DATA_DIR/SST2/labels_train.txt \\\n",
    "    validation_ds.text_file=$DATA_DIR/SST2/text_dev.txt \\\n",
    "    validation_ds.labels_file=$DATA_DIR/SST2/labels_dev.txt \\\n",
    "    trainer.amp_level=\"O1\" \\\n",
    "    trainer.precision=16 \\\n",
    "    trainer.max_epochs=2 \\\n",
    "    training_ds.num_samples=-1 \\\n",
    "    validation_ds.num_samples=-1 \\\n",
    "    2>&1|tee my_assessment/step2.txt # DO NOT REMOVE THIS LINE"
   ],
   "metadata": {
    "collapsed": false,
    "pycharm": {
     "name": "#%%\n"
    }
   }
  },
  {
   "cell_type": "code",
   "execution_count": null,
   "outputs": [],
   "source": [],
   "metadata": {
    "collapsed": false,
    "pycharm": {
     "name": "#%%\n"
    }
   }
  },
  {
   "cell_type": "code",
   "execution_count": null,
   "outputs": [],
   "source": [],
   "metadata": {
    "collapsed": false,
    "pycharm": {
     "name": "#%%\n"
    }
   }
  },
  {
   "cell_type": "code",
   "execution_count": null,
   "outputs": [],
   "source": [],
   "metadata": {
    "collapsed": false,
    "pycharm": {
     "name": "#%%\n"
    }
   }
  },
  {
   "cell_type": "code",
   "execution_count": null,
   "outputs": [],
   "source": [],
   "metadata": {
    "collapsed": false,
    "pycharm": {
     "name": "#%%\n"
    }
   }
  },
  {
   "cell_type": "code",
   "execution_count": null,
   "outputs": [],
   "source": [],
   "metadata": {
    "collapsed": false,
    "pycharm": {
     "name": "#%%\n"
    }
   }
  }
 ],
 "metadata": {
  "kernelspec": {
   "display_name": "Python 3",
   "language": "python",
   "name": "python3"
  },
  "language_info": {
   "codemirror_mode": {
    "name": "ipython",
    "version": 2
   },
   "file_extension": ".py",
   "mimetype": "text/x-python",
   "name": "python",
   "nbconvert_exporter": "python",
   "pygments_lexer": "ipython2",
   "version": "2.7.6"
  }
 },
 "nbformat": 4,
 "nbformat_minor": 0
}